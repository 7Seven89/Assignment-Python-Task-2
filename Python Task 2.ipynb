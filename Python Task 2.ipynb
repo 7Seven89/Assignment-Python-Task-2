{
 "cells": [
  {
   "cell_type": "markdown",
   "id": "afd5d9d3-b5cd-4df2-8779-f3a4bd9a2474",
   "metadata": {},
   "source": [
    "**Q1. You are writing code for a company. The requirement of the company is that you create a python\n",
    "function that will check whether the password entered by the user is correct or not. The function should\n",
    "take the password as input and return the string “Valid Password” if the entered password follows the\n",
    "below-given password guidelines else it should return “Invalid Password”.**\n",
    "\n",
    "**Note:** \n",
    "1. The Password should contain at least two uppercase letters and at least two lowercase letters.\n",
    "2. The Password should contain at least a number and three special characters.\n",
    "3. The length of the password should be 10 characters long."
   ]
  },
  {
   "cell_type": "code",
   "execution_count": 15,
   "id": "90a42285-5e17-48c4-b2f8-57ab87f383e4",
   "metadata": {},
   "outputs": [],
   "source": [
    "# A1.\n",
    "\n",
    "\n",
    "def check_password():\n",
    "    enter_password = str(input(\"Please enter password.\"))\n",
    "\n",
    "    count_upper = 0\n",
    "    count_number = 0\n",
    "    count_special = 0\n",
    "\n",
    "    for i in enter_password:\n",
    "        if i.isupper():\n",
    "            count_upper += 1\n",
    "             \n",
    "        elif i.isdigit():\n",
    "            count_number += 1\n",
    "\n",
    "        elif not i.isalnum():\n",
    "            count_special += 1\n",
    "    \n",
    "    if (count_upper >= 2) and (count_number >= 1) and (count_special >= 3) and (len(enter_password) == 10):\n",
    "        print(\"The entered password is valid.\")\n",
    "\n",
    "    else:\n",
    "        print(\"Please re-enter the password.\")\n"
   ]
  },
  {
   "cell_type": "code",
   "execution_count": 22,
   "id": "a3bea52d-e5d4-4551-9039-e7336e4fb07e",
   "metadata": {},
   "outputs": [
    {
     "name": "stdin",
     "output_type": "stream",
     "text": [
      "Please enter password. I@m@mm@R78\n"
     ]
    },
    {
     "name": "stdout",
     "output_type": "stream",
     "text": [
      "The entered password is valid.\n"
     ]
    }
   ],
   "source": [
    "check_password()"
   ]
  },
  {
   "cell_type": "markdown",
   "id": "85f132d3-7f02-4fe8-abe1-dc31b0777d9d",
   "metadata": {},
   "source": [
    "**Q2. Solve the below-given questions using at least one of the following:**\n",
    "1. Lambda function\n",
    "2. Filter function\n",
    "3. Map function\n",
    "4. List Comprehension\n",
    "\n",
    "- Check if the string starts with a particular letter.\n",
    "- Check if the string is numeric.\n",
    "- Sort a list of tuples having fruit names and their quantity. [(\"mango\",99),(\"orange\",80), (\"grapes\", 1000)]\n",
    "- Find the squares of numbers from 1 to 10.\n",
    "- Find the cube root of numbers from 1 to 10.\n",
    "- Check if a given number is even.\n",
    "- Filter odd numbers from the given list.\n",
    "[1,2,3,4,5,6,7,8,9,10]\n",
    "- Sort a list of integers into positive and negative integers lists.\n",
    "[1,2,3,4,5,6,-1,-2,-3,-4,-5,0]"
   ]
  },
  {
   "cell_type": "markdown",
   "id": "036fdedd-cf8d-48d5-9896-e50619cb0b94",
   "metadata": {},
   "source": [
    "**A2.** "
   ]
  },
  {
   "cell_type": "code",
   "execution_count": 38,
   "id": "4c9ece65-44b6-469b-8505-13c4d3fa34a2",
   "metadata": {},
   "outputs": [
    {
     "data": {
      "text/plain": [
       "False"
      ]
     },
     "execution_count": 38,
     "metadata": {},
     "output_type": "execute_result"
    }
   ],
   "source": [
    "# Check if the string starts with a particular letter.\n",
    "\n",
    "start_letter = lambda x : True if x[0] == \"A\" else False\n",
    "\n",
    "start_letter(\"PW Skills\")"
   ]
  },
  {
   "cell_type": "code",
   "execution_count": 42,
   "id": "9f7bcc94-bf3b-4fc3-9541-85f3f3a1d789",
   "metadata": {},
   "outputs": [
    {
     "name": "stdout",
     "output_type": "stream",
     "text": [
      "False\n",
      "True\n"
     ]
    }
   ],
   "source": [
    "# Check if the string is numeric.\n",
    "\n",
    "numeric_check = lambda x : True if x.isnumeric() else False\n",
    "\n",
    "print(numeric_check(\"abc1123\"))\n",
    "print(numeric_check(\"123\"))"
   ]
  },
  {
   "cell_type": "code",
   "execution_count": 44,
   "id": "c503c89c-dd41-49f9-a283-4fe7e6c32bbb",
   "metadata": {},
   "outputs": [
    {
     "data": {
      "text/plain": [
       "[('orange', 80), ('mango', 99), ('grapes', 1000)]"
      ]
     },
     "execution_count": 44,
     "metadata": {},
     "output_type": "execute_result"
    }
   ],
   "source": [
    "# Sort a list of tuples having fruit names and their quantity. [(\"mango\",99),(\"orange\",80), (\"grapes\", 1000)]\n",
    "\n",
    "fruit_list = [(\"mango\",99),(\"orange\",80), (\"grapes\", 1000)]\n",
    "\n",
    "sorted(fruit_list, key = lambda x: x[1])"
   ]
  },
  {
   "cell_type": "code",
   "execution_count": 52,
   "id": "a5ce3ae9-ae1f-4f1e-bcff-484f4430df0e",
   "metadata": {},
   "outputs": [
    {
     "data": {
      "text/plain": [
       "[1, 4, 9, 16, 25, 36, 49, 64, 81, 100]"
      ]
     },
     "execution_count": 52,
     "metadata": {},
     "output_type": "execute_result"
    }
   ],
   "source": [
    "# Find the squares of numbers from 1 to 10.\n",
    "\n",
    "def num_sqr(x):\n",
    "    return x**2\n",
    "\n",
    "num_list = [x for x in range(1, 11)]\n",
    "\n",
    "list(map(num_sqr, num_list))"
   ]
  },
  {
   "cell_type": "code",
   "execution_count": 55,
   "id": "19498bdd-d967-423b-9fd0-2e2d1afe2f4e",
   "metadata": {},
   "outputs": [
    {
     "name": "stdout",
     "output_type": "stream",
     "text": [
      "[1, 4, 9, 16, 25, 36, 49, 64, 81, 100]\n"
     ]
    }
   ],
   "source": [
    "# Find the squares of numbers from 1 to 10.\n",
    "\n",
    "list_square = [x**2 for x in range(1,11)]\n",
    "print(list_square)"
   ]
  },
  {
   "cell_type": "code",
   "execution_count": 59,
   "id": "c8d4b80c-27e7-4746-bbf2-d897754d50f8",
   "metadata": {},
   "outputs": [
    {
     "name": "stdout",
     "output_type": "stream",
     "text": [
      "[0.3333333333333333, 0.6666666666666666, 1.0, 1.3333333333333333, 1.6666666666666667, 2.0, 2.3333333333333335, 2.6666666666666665, 3.0, 3.3333333333333335]\n"
     ]
    }
   ],
   "source": [
    "# Find the cube root of numbers from 1 to 10.\n",
    "\n",
    "cube_root_list = [(x**1/3) for x in range(1,11)]\n",
    "print(cube_root_list)"
   ]
  },
  {
   "cell_type": "code",
   "execution_count": 62,
   "id": "dbd90a89-5850-43a1-a86a-8a27a0e81442",
   "metadata": {},
   "outputs": [
    {
     "data": {
      "text/plain": [
       "True"
      ]
     },
     "execution_count": 62,
     "metadata": {},
     "output_type": "execute_result"
    }
   ],
   "source": [
    "# Check if a given number is even.\n",
    "\n",
    "even_check = lambda x : True if x % 2 == 0 else False\n",
    "\n",
    "even_check(32)"
   ]
  },
  {
   "cell_type": "code",
   "execution_count": 66,
   "id": "ee9a31e1-722c-43d3-8b7f-79ca5b908a40",
   "metadata": {},
   "outputs": [
    {
     "data": {
      "text/plain": [
       "[3, 6, 9]"
      ]
     },
     "execution_count": 66,
     "metadata": {},
     "output_type": "execute_result"
    }
   ],
   "source": [
    "# Filter odd numbers from the given list. [1,2,3,4,5,6,7,8,9,10]\n",
    "\n",
    "num_list = [1,2,3,4,5,6,7,8,9,10]\n",
    "\n",
    "list(filter(lambda x : x % 3 == 0, num_list))\n"
   ]
  },
  {
   "cell_type": "code",
   "execution_count": 73,
   "id": "9930b289-4b78-4d8f-91cc-019f2af7abe5",
   "metadata": {},
   "outputs": [
    {
     "name": "stdout",
     "output_type": "stream",
     "text": [
      "[1, 2, 3, 4, 5, 6, 0]\n",
      "[-1, -2, -3, -4, -5]\n"
     ]
    }
   ],
   "source": [
    "# Sort a list of integers into positive and negative integers lists. [1,2,3,4,5,6,-1,-2,-3,-4,-5,0]\n",
    "\n",
    "num_list = [1,2,3,4,5,6,-1,-2,-3,-4,-5,0]\n",
    "\n",
    "positive_list = [x for x in num_list if x >= 0]\n",
    "negative_list = [x for x in num_list if x < 0]\n",
    "\n",
    "print(positive_list)\n",
    "print(negative_list)"
   ]
  }
 ],
 "metadata": {
  "kernelspec": {
   "display_name": "Python 3 (ipykernel)",
   "language": "python",
   "name": "python3"
  },
  "language_info": {
   "codemirror_mode": {
    "name": "ipython",
    "version": 3
   },
   "file_extension": ".py",
   "mimetype": "text/x-python",
   "name": "python",
   "nbconvert_exporter": "python",
   "pygments_lexer": "ipython3",
   "version": "3.12.2"
  }
 },
 "nbformat": 4,
 "nbformat_minor": 5
}
